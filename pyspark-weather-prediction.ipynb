{
  "cells": [
    {
      "cell_type": "markdown",
      "metadata": {},
      "source": [
        "# Imports"
      ]
    },
    {
      "cell_type": "code",
      "execution_count": 38,
      "metadata": {},
      "outputs": [],
      "source": [
        "from pyspark.sql import SparkSession, Window\n",
        "from pyspark.sql.functions import lead, avg, mean, stddev, countDistinct, when, col, udf, month, lit, median as _median\n",
        "from pyspark.sql.types import FloatType\n",
        "from pyspark.ml.feature import StringIndexer, OneHotEncoder, VectorAssembler, StandardScaler\n",
        "from pyspark.ml.regression import LinearRegression\n",
        "from pyspark.ml.evaluation import RegressionEvaluator, MulticlassClassificationEvaluator\n",
        "from pyspark.mllib.evaluation import RegressionMetrics, BinaryClassificationMetrics\n",
        "from xgboost.spark import SparkXGBRegressor, SparkXGBClassifier\n",
        "\n",
        "\n",
        "import xgboost as xgb\n",
        "import shap\n",
        "\n",
        "import matplotlib.pyplot as plt\n",
        "import seaborn as sns\n",
        "import numpy as np\n",
        "import pandas as pd\n"
      ]
    },
    {
      "cell_type": "markdown",
      "metadata": {},
      "source": [
        "# PySpark Initialization"
      ]
    },
    {
      "cell_type": "code",
      "execution_count": 39,
      "metadata": {
        "colab": {
          "base_uri": "https://localhost:8080/",
          "height": 221
        },
        "id": "kqJH9SCE_lpI",
        "outputId": "005650a6-7ff7-4fff-fea2-4be3896795ab"
      },
      "outputs": [
        {
          "data": {
            "text/html": [
              "\n",
              "            <div>\n",
              "                <p><b>SparkSession - in-memory</b></p>\n",
              "                \n",
              "        <div>\n",
              "            <p><b>SparkContext</b></p>\n",
              "\n",
              "            <p><a href=\"http://192.168.1.139:4050\">Spark UI</a></p>\n",
              "\n",
              "            <dl>\n",
              "              <dt>Version</dt>\n",
              "                <dd><code>v3.5.1</code></dd>\n",
              "              <dt>Master</dt>\n",
              "                <dd><code>local</code></dd>\n",
              "              <dt>AppName</dt>\n",
              "                <dd><code>GSOD</code></dd>\n",
              "            </dl>\n",
              "        </div>\n",
              "        \n",
              "            </div>\n",
              "        "
            ],
            "text/plain": [
              "<pyspark.sql.session.SparkSession at 0x171d240a0>"
            ]
          },
          "execution_count": 39,
          "metadata": {},
          "output_type": "execute_result"
        }
      ],
      "source": [
        "\n",
        "\n",
        "spark = SparkSession.builder\\\n",
        "        .master(\"local\")\\\n",
        "        .appName(\"GSOD\")\\\n",
        "        .config('spark.ui.port', '4050')\\\n",
        "        .getOrCreate()\n",
        "\n",
        "spark"
      ]
    },
    {
      "cell_type": "markdown",
      "metadata": {},
      "source": [
        "# Data Loading"
      ]
    },
    {
      "cell_type": "code",
      "execution_count": 40,
      "metadata": {
        "colab": {
          "base_uri": "https://localhost:8080/"
        },
        "id": "Qr_A-o9yAkHg",
        "outputId": "c7c1384b-29c3-4ad3-dbfb-d32344c3c248"
      },
      "outputs": [
        {
          "name": "stderr",
          "output_type": "stream",
          "text": [
            "[Stage 1541:==========================================>             (3 + 1) / 4]\r"
          ]
        },
        {
          "name": "stdout",
          "output_type": "stream",
          "text": [
            "root\n",
            " |-- stn: string (nullable = true)\n",
            " |-- wban: integer (nullable = true)\n",
            " |-- date: date (nullable = true)\n",
            " |-- year: integer (nullable = true)\n",
            " |-- mo: integer (nullable = true)\n",
            " |-- da: integer (nullable = true)\n",
            " |-- temp: double (nullable = true)\n",
            " |-- count_temp: integer (nullable = true)\n",
            " |-- dewp: double (nullable = true)\n",
            " |-- count_dewp: integer (nullable = true)\n",
            " |-- slp: double (nullable = true)\n",
            " |-- count_slp: integer (nullable = true)\n",
            " |-- stp: double (nullable = true)\n",
            " |-- count_stp: integer (nullable = true)\n",
            " |-- visib: double (nullable = true)\n",
            " |-- count_visib: integer (nullable = true)\n",
            " |-- wdsp: double (nullable = true)\n",
            " |-- count_wdsp: integer (nullable = true)\n",
            " |-- mxpsd: double (nullable = true)\n",
            " |-- gust: double (nullable = true)\n",
            " |-- max: double (nullable = true)\n",
            " |-- flag_max: string (nullable = true)\n",
            " |-- min: double (nullable = true)\n",
            " |-- flag_min: string (nullable = true)\n",
            " |-- prcp: double (nullable = true)\n",
            " |-- flag_prcp: string (nullable = true)\n",
            " |-- sndp: double (nullable = true)\n",
            " |-- fog: integer (nullable = true)\n",
            " |-- rain_drizzle: integer (nullable = true)\n",
            " |-- snow_ice_pellets: integer (nullable = true)\n",
            " |-- hail: integer (nullable = true)\n",
            " |-- thunder: integer (nullable = true)\n",
            " |-- tornado_funnel_cloud: integer (nullable = true)\n",
            "\n"
          ]
        },
        {
          "name": "stderr",
          "output_type": "stream",
          "text": [
            "                                                                                \r"
          ]
        }
      ],
      "source": [
        "df = spark.read.format(\"csv\").load(\"gsod-2023.csv\", header=True, inferSchema=True)\n",
        "df.printSchema()"
      ]
    },
    {
      "cell_type": "code",
      "execution_count": 41,
      "metadata": {
        "colab": {
          "base_uri": "https://localhost:8080/"
        },
        "id": "EagnANC7Bbiv",
        "outputId": "766815b4-d790-4adc-b2b6-87daaf5c2eda"
      },
      "outputs": [
        {
          "name": "stdout",
          "output_type": "stream",
          "text": [
            "+------+-----+----------+----+---+---+----+----------+----+----------+------+---------+----+---------+-----+-----------+----+----------+-----+-----+----+--------+----+--------+----+---------+-----+---+------------+----------------+----+-------+--------------------+\n",
            "|   stn| wban|      date|year| mo| da|temp|count_temp|dewp|count_dewp|   slp|count_slp| stp|count_stp|visib|count_visib|wdsp|count_wdsp|mxpsd| gust| max|flag_max| min|flag_min|prcp|flag_prcp| sndp|fog|rain_drizzle|snow_ice_pellets|hail|thunder|tornado_funnel_cloud|\n",
            "+------+-----+----------+----+---+---+----+----------+----+----------+------+---------+----+---------+-----+-----------+----+----------+-----+-----+----+--------+----+--------+----+---------+-----+---+------------+----------------+----+-------+--------------------+\n",
            "|010020|99999|2023-11-14|2023| 11| 14| 3.6|         4|-1.0|         4|1017.7|        4|16.4|        4|999.9|          0|12.9|         4| 16.7| 18.5| 6.6|    NULL| 1.0|    NULL| 0.0|        I|999.9|  0|           0|               0|   0|      0|                   0|\n",
            "|010020|99999|2023-10-25|2023| 10| 25|29.2|         4|22.6|         4|1016.5|        4|15.2|        4|999.9|          0| 5.3|         4| 13.6|999.9|30.0|    NULL|27.0|    NULL| 0.0|        I|999.9|  0|           0|               0|   0|      0|                   0|\n",
            "|010020|99999|2023-10-30|2023| 10| 30|26.7|         4|20.1|         4|1006.6|        4| 5.4|        4|999.9|          0|13.6|         4| 17.5|999.9|30.0|    NULL|19.0|    NULL| 0.0|        I|999.9|  0|           0|               0|   0|      0|                   0|\n",
            "|010030|99999|2023-08-15|2023|  8| 15|43.9|         4|39.2|         4|1009.8|        4| 8.4|        4|999.9|          0|23.2|         4| 24.9| 42.3|44.6|    NULL|43.0|    NULL| 0.0|        I|999.9|  0|           0|               0|   0|      0|                   0|\n",
            "|010060|99999|2023-11-28|2023| 11| 28|35.6|         4|29.7|         4|1019.3|        4|17.7|        4|999.9|          0|29.2|         4| 36.9|999.9|37.8|    NULL|33.3|       *| 0.0|        I|999.9|  0|           0|               0|   0|      0|                   0|\n",
            "+------+-----+----------+----+---+---+----+----------+----+----------+------+---------+----+---------+-----+-----------+----+----------+-----+-----+----+--------+----+--------+----+---------+-----+---+------------+----------------+----+-------+--------------------+\n",
            "only showing top 5 rows\n",
            "\n"
          ]
        }
      ],
      "source": [
        "df.show(5)"
      ]
    },
    {
      "cell_type": "code",
      "execution_count": 42,
      "metadata": {},
      "outputs": [],
      "source": [
        "\n",
        "# List of columns with their respective missing value indicators\n",
        "missing_value_indicators = {\n",
        "    'temp': 9999.9, 'dewp': 9999.9, 'slp': 9999.9, 'stp': 9999.9,\n",
        "    'visib': 999.9, 'wdsp': 999.9, 'mxpsd': 999.9, 'gust': 999.9,\n",
        "    'max': 9999.9, 'min': 9999.9, 'prcp': 99.99, 'sndp': 999.9,\n",
        "}\n",
        "\n",
        "# Replace placeholder values with None (which represents null in PySpark)\n",
        "for column, indicator in missing_value_indicators.items():\n",
        "    df = df.withColumn(column, when(col(column) == indicator, None).otherwise(col(column)))"
      ]
    },
    {
      "cell_type": "code",
      "execution_count": 43,
      "metadata": {},
      "outputs": [
        {
          "name": "stderr",
          "output_type": "stream",
          "text": [
            "[Stage 1639:==========================================>             (3 + 1) / 4]\r"
          ]
        },
        {
          "name": "stdout",
          "output_type": "stream",
          "text": [
            "stn: 0 missing values\n",
            "wban: 0 missing values\n",
            "date: 0 missing values\n",
            "year: 0 missing values\n",
            "mo: 0 missing values\n",
            "da: 0 missing values\n",
            "temp: 0 missing values\n",
            "count_temp: 0 missing values\n",
            "dewp: 183725 missing values\n",
            "count_dewp: 0 missing values\n",
            "slp: 1386896 missing values\n",
            "count_slp: 0 missing values\n",
            "stp: 0 missing values\n",
            "count_stp: 0 missing values\n",
            "visib: 1071834 missing values\n",
            "count_visib: 0 missing values\n",
            "wdsp: 142206 missing values\n",
            "count_wdsp: 0 missing values\n",
            "mxpsd: 178903 missing values\n",
            "gust: 2972264 missing values\n",
            "max: 2214 missing values\n",
            "flag_max: 2493618 missing values\n",
            "min: 3079 missing values\n",
            "flag_min: 2462555 missing values\n",
            "prcp: 327442 missing values\n",
            "flag_prcp: 327442 missing values\n",
            "sndp: 3758174 missing values\n",
            "fog: 0 missing values\n",
            "rain_drizzle: 0 missing values\n",
            "snow_ice_pellets: 0 missing values\n",
            "hail: 0 missing values\n",
            "thunder: 0 missing values\n",
            "tornado_funnel_cloud: 0 missing values\n"
          ]
        },
        {
          "name": "stderr",
          "output_type": "stream",
          "text": [
            "                                                                                \r"
          ]
        }
      ],
      "source": [
        "# Assuming other columns have missing values represented by 'null' or 'None'\n",
        "missing_counts = {column: df.filter(col(column).isNull()).count() for column in df.columns}\n",
        "\n",
        "# View the count of missing values for all columns in df\n",
        "for column, count in missing_counts.items():\n",
        "    print(f\"{column}: {count} missing values\")"
      ]
    },
    {
      "cell_type": "markdown",
      "metadata": {},
      "source": [
        "# Visualization"
      ]
    },
    {
      "cell_type": "code",
      "execution_count": 44,
      "metadata": {},
      "outputs": [
        {
          "name": "stderr",
          "output_type": "stream",
          "text": [
            "                                                                                \r"
          ]
        },
        {
          "data": {
            "image/png": "[encoded data removed]",
            "text/plain": [
              "<Figure size 720x432 with 1 Axes>"
            ]
          },
          "metadata": {},
          "output_type": "display_data"
        }
      ],
      "source": [
        "# For the plot, use Seaborn to plot the distribution of the first numerical feature\n",
        "sns.set_style(\"whitegrid\")\n",
        "feature_to_plot = 'temp'\n",
        "pdf = df.select(feature_to_plot).toPandas()\n",
        "\n",
        "plt.figure(figsize=(10, 6))\n",
        "sns.histplot(pdf[feature_to_plot].dropna(), kde=False)\n",
        "plt.title(f'Distribution of {feature_to_plot}')\n",
        "plt.xlabel(feature_to_plot)\n",
        "plt.ylabel('Frequency')\n",
        "plt.show()"
      ]
    },
    {
      "cell_type": "markdown",
      "metadata": {},
      "source": [
        "# Feature Selection"
      ]
    },
    {
      "cell_type": "code",
      "execution_count": 45,
      "metadata": {},
      "outputs": [],
      "source": [
        "# List of columns to drop\n",
        "columns_to_drop = ['dewp', 'wban', 'gust', 'flag_max', 'flag_min', 'flag_prcp', 'sndp', 'slp']\n",
        "\n",
        "# Drop the columns\n",
        "df = df.drop(*columns_to_drop)"
      ]
    },
    {
      "cell_type": "code",
      "execution_count": 46,
      "metadata": {},
      "outputs": [
        {
          "name": "stderr",
          "output_type": "stream",
          "text": [
            "                                                                                \r"
          ]
        },
        {
          "name": "stdout",
          "output_type": "stream",
          "text": [
            "temp | Mean: 56.49 | StdDev: 22.66 | Median: 58.50 | Mode: 81.7 | Distinct Count: 2127\n"
          ]
        },
        {
          "name": "stderr",
          "output_type": "stream",
          "text": [
            "                                                                                \r"
          ]
        },
        {
          "name": "stdout",
          "output_type": "stream",
          "text": [
            "stp | Mean: 703.23 | StdDev: 429.90 | Median: 968.60 | Mode: 999.9 | Distinct Count: 5047\n"
          ]
        },
        {
          "name": "stderr",
          "output_type": "stream",
          "text": [
            "                                                                                \r"
          ]
        },
        {
          "name": "stdout",
          "output_type": "stream",
          "text": [
            "visib | Mean: 9.80 | StdDev: 6.21 | Median: 8.40 | Mode: None | Distinct Count: 577\n"
          ]
        },
        {
          "name": "stderr",
          "output_type": "stream",
          "text": [
            "                                                                                \r"
          ]
        },
        {
          "name": "stdout",
          "output_type": "stream",
          "text": [
            "wdsp | Mean: 6.13 | StdDev: 4.34 | Median: 5.10 | Mode: None | Distinct Count: 629\n"
          ]
        },
        {
          "name": "stderr",
          "output_type": "stream",
          "text": [
            "                                                                                \r"
          ]
        },
        {
          "name": "stdout",
          "output_type": "stream",
          "text": [
            "mxpsd | Mean: 11.50 | StdDev: 6.36 | Median: 9.90 | Mode: 9.9 | Distinct Count: 409\n"
          ]
        },
        {
          "name": "stderr",
          "output_type": "stream",
          "text": [
            "                                                                                \r"
          ]
        },
        {
          "name": "stdout",
          "output_type": "stream",
          "text": [
            "max | Mean: 66.17 | StdDev: 23.77 | Median: 70.00 | Mode: 86.0 | Distinct Count: 1263\n"
          ]
        },
        {
          "name": "stderr",
          "output_type": "stream",
          "text": [
            "                                                                                \r"
          ]
        },
        {
          "name": "stdout",
          "output_type": "stream",
          "text": [
            "min | Mean: 47.28 | StdDev: 22.54 | Median: 49.10 | Mode: 75.2 | Distinct Count: 1198\n"
          ]
        },
        {
          "name": "stderr",
          "output_type": "stream",
          "text": [
            "                                                                                \r"
          ]
        },
        {
          "name": "stdout",
          "output_type": "stream",
          "text": [
            "prcp | Mean: 0.07 | StdDev: 0.29 | Median: 0.00 | Mode: 0.0 | Distinct Count: 909\n"
          ]
        },
        {
          "name": "stderr",
          "output_type": "stream",
          "text": [
            "                                                                                \r"
          ]
        },
        {
          "name": "stdout",
          "output_type": "stream",
          "text": [
            "count_temp | Mean: 18.39 | StdDev: 7.47 | Median: 24.00 | Mode: 24 | Distinct Count: 21\n"
          ]
        },
        {
          "name": "stderr",
          "output_type": "stream",
          "text": [
            "                                                                                \r"
          ]
        },
        {
          "name": "stdout",
          "output_type": "stream",
          "text": [
            "count_dewp | Mean: 17.34 | StdDev: 8.26 | Median: 24.00 | Mode: 24 | Distinct Count: 22\n"
          ]
        },
        {
          "name": "stderr",
          "output_type": "stream",
          "text": [
            "                                                                                \r"
          ]
        },
        {
          "name": "stdout",
          "output_type": "stream",
          "text": [
            "count_slp | Mean: 10.46 | StdDev: 9.89 | Median: 8.00 | Mode: 0 | Distinct Count: 22\n"
          ]
        },
        {
          "name": "stderr",
          "output_type": "stream",
          "text": [
            "                                                                                \r"
          ]
        },
        {
          "name": "stdout",
          "output_type": "stream",
          "text": [
            "count_stp | Mean: 11.67 | StdDev: 10.06 | Median: 8.00 | Mode: 24 | Distinct Count: 22\n"
          ]
        },
        {
          "name": "stderr",
          "output_type": "stream",
          "text": [
            "                                                                                \r"
          ]
        },
        {
          "name": "stdout",
          "output_type": "stream",
          "text": [
            "count_visib | Mean: 12.50 | StdDev: 10.13 | Median: 11.00 | Mode: 24 | Distinct Count: 22\n"
          ]
        },
        {
          "name": "stderr",
          "output_type": "stream",
          "text": [
            "[Stage 1780:==========================================>             (3 + 1) / 4]\r"
          ]
        },
        {
          "name": "stdout",
          "output_type": "stream",
          "text": [
            "count_wdsp | Mean: 17.59 | StdDev: 8.08 | Median: 24.00 | Mode: 24 | Distinct Count: 22\n"
          ]
        },
        {
          "name": "stderr",
          "output_type": "stream",
          "text": [
            "                                                                                \r"
          ]
        }
      ],
      "source": [
        "numerical_columns = [\n",
        "    'temp',           # Mean temperature\n",
        "    # 'dewp',           # Mean dew point\n",
        "    # 'slp',            # Mean sea level pressure\n",
        "    'stp',            # Mean station pressure\n",
        "    'visib',          # Mean visibility\n",
        "    'wdsp',           # Mean wind speed\n",
        "    'mxpsd',          # Maximum sustained wind speed\n",
        "    'max',            # Maximum temperature\n",
        "    'min',            # Minimum temperature\n",
        "    'prcp',           # Total precipitation\n",
        "    # Number of values that were used to compute the mean\n",
        "    'count_temp',     \n",
        "    'count_dewp',     \n",
        "    'count_slp',      \n",
        "    'count_stp',      \n",
        "    'count_visib',    \n",
        "    'count_wdsp'      \n",
        "]\n",
        "\n",
        "for column in numerical_columns:\n",
        "    # Calculate mean, standard deviation, and distinct count\n",
        "    stats = df.select(\n",
        "        mean(col(column)).alias('mean'),\n",
        "        stddev(col(column)).alias('stddev'),\n",
        "        countDistinct(col(column)).alias('distinct_count')\n",
        "    ).collect()[0]\n",
        "    \n",
        "    # Calculate median\n",
        "    median_value = df.stat.approxQuantile(column, [0.5], 0.05)[0]\n",
        "\n",
        "    # Calculate mode - mode may not be accurate if the dataset is very large due to Spark's distributed nature.\n",
        "    mode_value = df.groupBy(column).count().orderBy('count', ascending=False).first()[column]\n",
        "\n",
        "    # Print the statistics in one line\n",
        "    print(f\"{column} | Mean: {stats['mean']:.2f} | StdDev: {stats['stddev']:.2f} | Median: {median_value:.2f} | Mode: {mode_value} | Distinct Count: {stats['distinct_count']}\")\n"
      ]
    },
    {
      "cell_type": "code",
      "execution_count": 47,
      "metadata": {},
      "outputs": [
        {
          "name": "stderr",
          "output_type": "stream",
          "text": [
            "                                                                                \r"
          ]
        },
        {
          "name": "stdout",
          "output_type": "stream",
          "text": [
            "fog | Unique Categories: 2\n"
          ]
        },
        {
          "name": "stderr",
          "output_type": "stream",
          "text": [
            "                                                                                \r"
          ]
        },
        {
          "name": "stdout",
          "output_type": "stream",
          "text": [
            "rain_drizzle | Unique Categories: 2\n"
          ]
        },
        {
          "name": "stderr",
          "output_type": "stream",
          "text": [
            "                                                                                \r"
          ]
        },
        {
          "name": "stdout",
          "output_type": "stream",
          "text": [
            "snow_ice_pellets | Unique Categories: 2\n"
          ]
        },
        {
          "name": "stderr",
          "output_type": "stream",
          "text": [
            "                                                                                \r"
          ]
        },
        {
          "name": "stdout",
          "output_type": "stream",
          "text": [
            "hail | Unique Categories: 2\n"
          ]
        },
        {
          "name": "stderr",
          "output_type": "stream",
          "text": [
            "                                                                                \r"
          ]
        },
        {
          "name": "stdout",
          "output_type": "stream",
          "text": [
            "thunder | Unique Categories: 2\n"
          ]
        },
        {
          "name": "stderr",
          "output_type": "stream",
          "text": [
            "[Stage 1813:==========================================>             (3 + 1) / 4]\r"
          ]
        },
        {
          "name": "stdout",
          "output_type": "stream",
          "text": [
            "tornado_funnel_cloud | Unique Categories: 2\n"
          ]
        },
        {
          "name": "stderr",
          "output_type": "stream",
          "text": [
            "                                                                                \r"
          ]
        }
      ],
      "source": [
        "\n",
        "categorical_columns = [\n",
        "    'fog',                  # Fog \n",
        "    'rain_drizzle',         # Rain or drizzle \n",
        "    'snow_ice_pellets',     # Snow or ice pellets \n",
        "    'hail',                 # Hail \n",
        "    'thunder',              # Thunder\n",
        "    'tornado_funnel_cloud', # Tornado or funnel cloud \n",
        "    # Flags are categorical and indicate data quality or source\n",
        "    # 'flag_max',             \n",
        "    # 'flag_min',             \n",
        "    # 'flag_prcp',            \n",
        "    # Time-related fields can be used for time series analysis but are not direct features themselves\n",
        "    # 'year',                 \n",
        "    # 'mo',                   \n",
        "    # 'da'                    \n",
        "]\n",
        "\n",
        "# For categorical features, count the number of distinct categories\n",
        "for column in categorical_columns:\n",
        "    distinct_count = df.select(countDistinct(col(column)).alias('distinct_count')).collect()\n",
        "    print(f\"{column} | Unique Categories: {distinct_count[0]['distinct_count']}\")"
      ]
    },
    {
      "cell_type": "markdown",
      "metadata": {},
      "source": [
        "# Data Imputation"
      ]
    },
    {
      "cell_type": "code",
      "execution_count": 48,
      "metadata": {},
      "outputs": [],
      "source": [
        "def MedianImputer(df, column_name):\n",
        "    \"\"\"\n",
        "    Imputes missing values in a DataFrame column with the median value grouped by the station,\n",
        "    and uses the global median as a fallback if all values for a feature at a station are None.\n",
        "    Reports the number of values imputed using station-specific and global median.\n",
        "\n",
        "    :param df: Spark DataFrame containing the column to impute.\n",
        "    :param column_name: Name of the column to impute.\n",
        "    \"\"\"\n",
        "    \n",
        "    initial_missing_count = df.filter(col(column_name).isNull()).count()\n",
        "\n",
        "    # Calculate global median for the fallback\n",
        "    global_median = df.agg(_median(col(column_name)).alias('global_median')).collect()[0]['global_median']\n",
        "\n",
        "    # Group by 'stn' and calculate median for each group\n",
        "    median_values = df.groupBy('stn').agg(_median(col(column_name)).alias('median')).collect()\n",
        "\n",
        "    # Initialize counter for imputation tracking\n",
        "    station_imputed_count = 0\n",
        "    global_imputed_count = 0\n",
        "\n",
        "    # Create a dictionary to map each 'stn' to its median value, including a global fallback\n",
        "    median_map = {}\n",
        "    for row in median_values:\n",
        "        if row['median'] is not None:\n",
        "            median_map[row['stn']] = row['median']\n",
        "        else:\n",
        "            median_map[row['stn']] = global_median\n",
        "            global_imputed_count += df.filter((col('stn') == row['stn']) & col(column_name).isNull()).count()\n",
        "\n",
        "    # Use global median if there are stations not covered in median_values\n",
        "    median_map['global'] = global_median\n",
        "\n",
        "    # User defined function to return the median based on the 'stn' value, falling back to global median\n",
        "    def get_median(stn):\n",
        "        return median_map.get(stn, global_median)\n",
        "\n",
        "    # Register the function as a UDF\n",
        "    median_udf = udf(get_median, FloatType())\n",
        "\n",
        "    # Apply the UDF to the DataFrame to impute missing values, tracking the number of imputations\n",
        "    df_with_imputation_flag = df.withColumn(column_name+'_imputed', when(col(column_name).isNull(), median_udf(col('stn'))).otherwise(col(column_name))) \\\n",
        "                                .withColumn(\"imputed_flag\", when(col(column_name).isNull(), 1).otherwise(0))\n",
        "\n",
        "    station_imputed_count = initial_missing_count - global_imputed_count\n",
        "\n",
        "    # Drop the original column and rename the imputed column to the original column name, remove the imputation flag\n",
        "    df = df_with_imputation_flag.drop(column_name) \\\n",
        "                                .drop(\"imputed_flag\") \\\n",
        "                                .withColumnRenamed(column_name+'_imputed', column_name)\n",
        "\n",
        "    print(f\"Imputed {station_imputed_count} missing values using station median and {global_imputed_count} missing values using global median in '{column_name}'.\")\n",
        "\n",
        "    return df\n",
        "\n",
        "\n",
        "\n",
        "\n",
        "def ProximityMedian(df, column, initial_num_days, max_days, fallback_strategy='median'):\n",
        "    \"\"\"\n",
        "    Imputes missing values in a DataFrame column by taking the average of the values\n",
        "    num_days before and after the date of the missing observation, for the same station.\n",
        "    The num_days is increased progressively until there are no more missing values \n",
        "    or until the max_days is reached. If imputation still fails after reaching max_days, \n",
        "    a fallback strategy is applied.\n",
        "\n",
        "    :param df: Spark DataFrame containing the column to impute.\n",
        "    :param column: Name of the column to impute.\n",
        "    :param initial_num_days: Initial number of days before and after to consider for the average.\n",
        "    :param max_days: Maximum number of days to increase the window for imputation.\n",
        "    :param fallback_strategy: Strategy to use if the imputation is not successful ('median' or 'mean').\n",
        "    :returns: DataFrame with the imputed column.\n",
        "    \"\"\"\n",
        "    num_days = initial_num_days\n",
        "    original_missing_count = df.filter(col(column).isNull()).count()\n",
        "    \n",
        "    # Perform the proximity mean imputation\n",
        "    while num_days <= max_days and original_missing_count > 0:\n",
        "        windowSpec = Window.partitionBy('stn').orderBy('date').rowsBetween(-num_days, num_days)\n",
        "        df = df.withColumn(\n",
        "            f\"{column}_imputed\",\n",
        "            when(\n",
        "                col(column).isNull(),\n",
        "                avg(col(column)).over(windowSpec)\n",
        "            ).otherwise(col(column))\n",
        "        )\n",
        "        \n",
        "        missing_count_after = df.filter(col(f\"{column}_imputed\").isNull()).count()\n",
        "        if missing_count_after == 0:\n",
        "            break\n",
        "        num_days *= 2  # Increase the window size for the next iteration\n",
        "\n",
        "    # If there are still missing values after the maximum window size is reached, use the fallback strategy\n",
        "    if missing_count_after > 0:\n",
        "        fallback_value = df.stat.approxQuantile(column, [0.5], 0.001)[0] if fallback_strategy == 'median' else df.agg(avg(col(column))).first()[0]\n",
        "        df = df.withColumn(\n",
        "            f\"{column}_imputed\",\n",
        "            when(\n",
        "                col(f\"{column}_imputed\").isNull(),\n",
        "                lit(fallback_value)\n",
        "            ).otherwise(col(f\"{column}_imputed\"))\n",
        "        )\n",
        "    \n",
        "    final_df = df.drop(column).withColumnRenamed(f\"{column}_imputed\", column)\n",
        "    \n",
        "    # Print a summary of what happened\n",
        "    print(f\"ProximityMedian imputation for '{column}':\"\n",
        "          f\" Initial Missing: {original_missing_count},\"\n",
        "          f\" Remaining Missing (after ProximityMedian): {missing_count_after},\"\n",
        "          f\" Filled the rest with strategy: '{fallback_strategy}'.\")\n",
        "\n",
        "    return final_df\n",
        "\n",
        "\n",
        "def ImputeTempWithSeasonalMedian(df, column, initial_num_days=7, max_days=31):\n",
        "    \"\"\"\n",
        "    Imputes missing values for a given temperature column ('max' or 'min') in a DataFrame\n",
        "    by using the median temperature value for the corresponding station ('stn') and month.\n",
        "    If this fails to impute all missing values, falls back to the ProximityMean method.\n",
        "\n",
        "    Args:\n",
        "    df (DataFrame): The Spark DataFrame containing weather data.\n",
        "    column (str): The name of the temperature column to impute ('max' or 'min').\n",
        "    initial_num_days (int): Starting number of days for proximity mean imputation.\n",
        "    max_days (int): Maximum number of days for expanding the window in proximity mean imputation.\n",
        "\n",
        "    Returns:\n",
        "    DataFrame: The DataFrame with missing temperature values imputed.\n",
        "    \"\"\"\n",
        "\n",
        "    initial_missing_count = df.filter(col(column).isNull()).count()\n",
        "    \n",
        "    # Calculate median temperature grouped by 'stn' and 'mo' (month)\n",
        "    median_temp = df.groupBy('stn', month(df.date).alias('mo')).agg(_median(col(column)).alias('median_temp'))\n",
        "    \n",
        "    # Join the median_temp DataFrame with the original DataFrame based on 'stn' and 'mo'\n",
        "    df = df.join(median_temp, (df.stn == median_temp.stn) & (month(df.date) == median_temp.mo), 'left_outer')\n",
        "\n",
        "    # Impute missing values with the corresponding median_temp\n",
        "    df = df.withColumn(column, when(col(column).isNull(), col('median_temp')).otherwise(col(column)))\n",
        "\n",
        "    final_missing_count = df.filter(col(column).isNull()).count()\n",
        "    \n",
        "    print(f\"Imputed {initial_missing_count - final_missing_count} missing values in '{column}' using seasonal median by station and month.\")\n",
        "\n",
        "    # Drop the extra columns used for the join\n",
        "    df = df.drop(median_temp.stn).drop(median_temp.mo).drop('median_temp')\n",
        "\n",
        "    if final_missing_count != 0:\n",
        "        # Fallback to ProximityMean if not all values were imputed\n",
        "        df = ProximityMedian(df, column, initial_num_days, max_days)\n",
        "        print(f\"Used ProximityMedian as a fallback for remaining {final_missing_count} missing values.\")\n",
        "    \n",
        "    return df"
      ]
    },
    {
      "cell_type": "code",
      "execution_count": 49,
      "metadata": {},
      "outputs": [],
      "source": [
        "imputation_strategy = {\n",
        "    # 'dewp': lambda df: MedianImputer(df, 'dewp'),\n",
        "    # 'slp': lambda df: MedianImputer(df, 'slp'),\n",
        "    'visib': lambda df: ProximityMedian(df, 'visib', initial_num_days=7, max_days=30, fallback_strategy='median'),\n",
        "    'wdsp': lambda df: ProximityMedian(df, 'wdsp', initial_num_days=7, max_days=30, fallback_strategy='median'),\n",
        "    'mxpsd': lambda df: ProximityMedian(df, 'mxpsd', initial_num_days=7, max_days=30, fallback_strategy='median'),\n",
        "    'prcp': lambda df: df.na.fill({'prcp': 0}),  # Zero imputation for precipitation\n",
        "    'max': lambda df: ImputeTempWithSeasonalMedian(df, 'max'),\n",
        "    'min': lambda df: ImputeTempWithSeasonalMedian(df, 'min')\n",
        "}\n"
      ]
    },
    {
      "cell_type": "code",
      "execution_count": 50,
      "metadata": {},
      "outputs": [
        {
          "name": "stderr",
          "output_type": "stream",
          "text": [
            "                                                                                \r"
          ]
        },
        {
          "name": "stdout",
          "output_type": "stream",
          "text": [
            "ProximityMedian imputation for 'visib': Initial Missing: 1071834, Remaining Missing (after ProximityMedian): 950283, Filled the rest with strategy: 'median'.\n"
          ]
        },
        {
          "name": "stderr",
          "output_type": "stream",
          "text": [
            "                                                                                \r"
          ]
        },
        {
          "name": "stdout",
          "output_type": "stream",
          "text": [
            "ProximityMedian imputation for 'wdsp': Initial Missing: 142206, Remaining Missing (after ProximityMedian): 74652, Filled the rest with strategy: 'median'.\n"
          ]
        },
        {
          "name": "stderr",
          "output_type": "stream",
          "text": [
            "                                                                                \r"
          ]
        },
        {
          "name": "stdout",
          "output_type": "stream",
          "text": [
            "ProximityMedian imputation for 'mxpsd': Initial Missing: 178903, Remaining Missing (after ProximityMedian): 79316, Filled the rest with strategy: 'median'.\n"
          ]
        },
        {
          "name": "stderr",
          "output_type": "stream",
          "text": [
            "                                                                                \r"
          ]
        },
        {
          "name": "stdout",
          "output_type": "stream",
          "text": [
            "Imputed 2093 missing values in 'max' using seasonal median by station and month.\n"
          ]
        },
        {
          "name": "stderr",
          "output_type": "stream",
          "text": [
            "                                                                                \r"
          ]
        },
        {
          "name": "stdout",
          "output_type": "stream",
          "text": [
            "ProximityMedian imputation for 'max': Initial Missing: 121, Remaining Missing (after ProximityMedian): 10, Filled the rest with strategy: 'median'.\n",
            "Used ProximityMedian as a fallback for remaining 121 missing values.\n"
          ]
        },
        {
          "name": "stderr",
          "output_type": "stream",
          "text": [
            "                                                                                \r"
          ]
        },
        {
          "name": "stdout",
          "output_type": "stream",
          "text": [
            "Imputed 2957 missing values in 'min' using seasonal median by station and month.\n"
          ]
        },
        {
          "name": "stderr",
          "output_type": "stream",
          "text": [
            "[Stage 2098:============================>                           (1 + 1) / 2]\r"
          ]
        },
        {
          "name": "stdout",
          "output_type": "stream",
          "text": [
            "ProximityMedian imputation for 'min': Initial Missing: 122, Remaining Missing (after ProximityMedian): 12, Filled the rest with strategy: 'median'.\n",
            "Used ProximityMedian as a fallback for remaining 122 missing values.\n"
          ]
        },
        {
          "name": "stderr",
          "output_type": "stream",
          "text": [
            "                                                                                \r"
          ]
        }
      ],
      "source": [
        "for column, impute_function in imputation_strategy.items():\n",
        "    df = impute_function(df)"
      ]
    },
    {
      "cell_type": "code",
      "execution_count": 51,
      "metadata": {},
      "outputs": [
        {
          "name": "stderr",
          "output_type": "stream",
          "text": [
            "[Stage 2125:==========================================>             (3 + 1) / 4]\r"
          ]
        },
        {
          "name": "stdout",
          "output_type": "stream",
          "text": [
            "+----------+----+---+---+----+----------+----------+---------+-----+---------+-----------+----------+----+---+------------+----------------+----+-------+--------------------+-----+-----------------+-----------------+----+------+----+\n",
            "|      date|year| mo| da|temp|count_temp|count_dewp|count_slp|  stp|count_stp|count_visib|count_wdsp|prcp|fog|rain_drizzle|snow_ice_pellets|hail|thunder|tornado_funnel_cloud|visib|             wdsp|            mxpsd| max|   stn| min|\n",
            "+----------+----+---+---+----+----------+----------+---------+-----+---------+-----------+----------+----+---+------------+----------------+----+-------+--------------------+-----+-----------------+-----------------+----+------+----+\n",
            "|2023-01-13|2023|  1| 13|28.6|         7|         7|        7|988.2|        7|          0|         7| 0.0|  0|           0|               0|   0|      0|                   0|  8.8|             23.4|             31.9|28.8|010060|28.4|\n",
            "|2023-02-14|2023|  2| 14|28.7|         8|         8|        8|996.8|        8|          0|         8| 0.0|  0|           0|               0|   0|      0|                   0|  8.8|             12.5|             16.9|32.5|010060|24.6|\n",
            "|2023-10-19|2023| 10| 19|32.7|         4|         4|        4|999.1|        4|          0|         0| 0.0|  0|           0|               0|   0|      0|                   0|  8.8|12.48666666666667|16.84333333333333|36.9|010060|22.6|\n",
            "|2023-10-20|2023| 10| 20|23.6|         4|         4|        4|998.3|        4|          0|         4| 0.0|  0|           0|               0|   0|      0|                   0|  8.8|             31.1|             38.9|24.6|010060|21.9|\n",
            "|2023-10-21|2023| 10| 21|23.5|         5|         5|        5| 13.9|        5|          0|         5| 0.0|  0|           0|               0|   0|      0|                   0|  8.8|             24.7|             29.1|24.8|010060|22.5|\n",
            "+----------+----+---+---+----+----------+----------+---------+-----+---------+-----------+----------+----+---+------------+----------------+----+-------+--------------------+-----+-----------------+-----------------+----+------+----+\n",
            "only showing top 5 rows\n",
            "\n"
          ]
        },
        {
          "name": "stderr",
          "output_type": "stream",
          "text": [
            "                                                                                \r"
          ]
        }
      ],
      "source": [
        "df.show(5)"
      ]
    },
    {
      "cell_type": "code",
      "execution_count": 52,
      "metadata": {},
      "outputs": [
        {
          "name": "stderr",
          "output_type": "stream",
          "text": [
            "24/03/09 16:36:36 WARN RowBasedKeyValueBatch: Calling spill() on RowBasedKeyValueBatch. Will not spill but return 0.\n",
            "[Stage 2265:>                                                       (0 + 1) / 1]\r"
          ]
        },
        {
          "name": "stdout",
          "output_type": "stream",
          "text": [
            "date: 0 missing values\n",
            "year: 0 missing values\n",
            "mo: 0 missing values\n",
            "da: 0 missing values\n",
            "temp: 0 missing values\n",
            "count_temp: 0 missing values\n",
            "count_dewp: 0 missing values\n",
            "count_slp: 0 missing values\n",
            "stp: 0 missing values\n",
            "count_stp: 0 missing values\n",
            "count_visib: 0 missing values\n",
            "count_wdsp: 0 missing values\n",
            "prcp: 0 missing values\n",
            "fog: 0 missing values\n",
            "rain_drizzle: 0 missing values\n",
            "snow_ice_pellets: 0 missing values\n",
            "hail: 0 missing values\n",
            "thunder: 0 missing values\n",
            "tornado_funnel_cloud: 0 missing values\n",
            "visib: 0 missing values\n",
            "wdsp: 0 missing values\n",
            "mxpsd: 0 missing values\n",
            "max: 0 missing values\n",
            "stn: 0 missing values\n",
            "min: 0 missing values\n"
          ]
        },
        {
          "name": "stderr",
          "output_type": "stream",
          "text": [
            "                                                                                \r"
          ]
        }
      ],
      "source": [
        "# Assuming other columns have missing values represented by 'null' or 'None'\n",
        "missing_counts_2 = {column: df.filter(col(column).isNull()).count() for column in df.columns}\n",
        "\n",
        "# View the count of missing values for all columns in df\n",
        "for column, count in missing_counts_2.items():\n",
        "    print(f\"{column}: {count} missing values\")"
      ]
    },
    {
      "cell_type": "code",
      "execution_count": 53,
      "metadata": {},
      "outputs": [
        {
          "name": "stdout",
          "output_type": "stream",
          "text": [
            "root\n",
            " |-- date: date (nullable = true)\n",
            " |-- year: integer (nullable = true)\n",
            " |-- mo: integer (nullable = true)\n",
            " |-- da: integer (nullable = true)\n",
            " |-- temp: double (nullable = true)\n",
            " |-- count_temp: integer (nullable = true)\n",
            " |-- count_dewp: integer (nullable = true)\n",
            " |-- count_slp: integer (nullable = true)\n",
            " |-- stp: double (nullable = true)\n",
            " |-- count_stp: integer (nullable = true)\n",
            " |-- count_visib: integer (nullable = true)\n",
            " |-- count_wdsp: integer (nullable = true)\n",
            " |-- prcp: double (nullable = false)\n",
            " |-- fog: integer (nullable = true)\n",
            " |-- rain_drizzle: integer (nullable = true)\n",
            " |-- snow_ice_pellets: integer (nullable = true)\n",
            " |-- hail: integer (nullable = true)\n",
            " |-- thunder: integer (nullable = true)\n",
            " |-- tornado_funnel_cloud: integer (nullable = true)\n",
            " |-- visib: double (nullable = true)\n",
            " |-- wdsp: double (nullable = true)\n",
            " |-- mxpsd: double (nullable = true)\n",
            " |-- max: double (nullable = true)\n",
            " |-- stn: string (nullable = true)\n",
            " |-- min: double (nullable = true)\n",
            "\n"
          ]
        }
      ],
      "source": [
        "df.printSchema()"
      ]
    },
    {
      "cell_type": "markdown",
      "metadata": {},
      "source": [
        "# Vectorization"
      ]
    },
    {
      "cell_type": "code",
      "execution_count": 54,
      "metadata": {},
      "outputs": [
        {
          "name": "stderr",
          "output_type": "stream",
          "text": [
            "                                                                                \r"
          ]
        }
      ],
      "source": [
        "# Process categorical columns with StringIndexer and OneHotEncoder\n",
        "for categorical_col in categorical_columns:\n",
        "    string_indexer = StringIndexer(inputCol=categorical_col, outputCol=categorical_col + \"_index\")\n",
        "    df = string_indexer.fit(df).transform(df)\n",
        "    encoder = OneHotEncoder(inputCol=categorical_col + \"_index\", outputCol=categorical_col + \"_vec\")\n",
        "    df = encoder.fit(df).transform(df)\n"
      ]
    },
    {
      "cell_type": "code",
      "execution_count": 55,
      "metadata": {},
      "outputs": [],
      "source": [
        "# Create a window spec\n",
        "windowSpec = Window.partitionBy(\"stn\").orderBy(\"date\")\n",
        "\n",
        "# For regression, shift 'max' temperature by one day to predict next day's temperature\n",
        "df = df.withColumn(\"next_day_max\", lead(\"max\").over(windowSpec))\n",
        "\n",
        "# For classification, shift 'rain_drizzle' by one day to predict rain/drizzle for the next day\n",
        "df = df.withColumn(\"next_day_rain\", lead(\"rain_drizzle\").over(windowSpec))\n",
        "\n",
        "# Filter out the rows with null 'next_day_max' or 'next_day_rain' as these will be our labels\n",
        "df_filtered = df.filter(df.next_day_max.isNotNull() & df.next_day_rain.isNotNull())\n",
        "\n",
        "# Assemble numerical features\n",
        "numerical_assembler = VectorAssembler(inputCols=numerical_columns, outputCol=\"numerical_features\")\n",
        "df_numerical_assembled = numerical_assembler.transform(df_filtered)"
      ]
    },
    {
      "cell_type": "code",
      "execution_count": 56,
      "metadata": {},
      "outputs": [
        {
          "name": "stderr",
          "output_type": "stream",
          "text": [
            "[Stage 2318:==========================================>             (3 + 1) / 4]\r"
          ]
        },
        {
          "name": "stdout",
          "output_type": "stream",
          "text": [
            "+----------+----+---+---+----+----------+----------+---------+-----+---------+-----------+----------+----+---+------------+----------------+----+-------+--------------------+-----+-----------------+-----------------+----+------+----+---------+-------------+------------------+----------------+----------------------+--------------------+----------+-------------+-------------+-------------+--------------------------+------------------------+------------+-------------+--------------------+\n",
            "|      date|year| mo| da|temp|count_temp|count_dewp|count_slp|  stp|count_stp|count_visib|count_wdsp|prcp|fog|rain_drizzle|snow_ice_pellets|hail|thunder|tornado_funnel_cloud|visib|             wdsp|            mxpsd| max|   stn| min|fog_index|      fog_vec|rain_drizzle_index|rain_drizzle_vec|snow_ice_pellets_index|snow_ice_pellets_vec|hail_index|     hail_vec|thunder_index|  thunder_vec|tornado_funnel_cloud_index|tornado_funnel_cloud_vec|next_day_max|next_day_rain|  numerical_features|\n",
            "+----------+----+---+---+----+----------+----------+---------+-----+---------+-----------+----------+----+---+------------+----------------+----+-------+--------------------+-----+-----------------+-----------------+----+------+----+---------+-------------+------------------+----------------+----------------------+--------------------+----------+-------------+-------------+-------------+--------------------------+------------------------+------------+-------------+--------------------+\n",
            "|2023-01-13|2023|  1| 13|28.6|         7|         7|        7|988.2|        7|          0|         7| 0.0|  0|           0|               0|   0|      0|                   0|  8.8|             23.4|             31.9|28.8|010060|28.4|      0.0|(1,[0],[1.0])|               0.0|   (1,[0],[1.0])|                   0.0|       (1,[0],[1.0])|       0.0|(1,[0],[1.0])|          0.0|(1,[0],[1.0])|                       0.0|           (1,[0],[1.0])|        32.5|            0|[28.6,988.2,8.8,2...|\n",
            "|2023-02-14|2023|  2| 14|28.7|         8|         8|        8|996.8|        8|          0|         8| 0.0|  0|           0|               0|   0|      0|                   0|  8.8|             12.5|             16.9|32.5|010060|24.6|      0.0|(1,[0],[1.0])|               0.0|   (1,[0],[1.0])|                   0.0|       (1,[0],[1.0])|       0.0|(1,[0],[1.0])|          0.0|(1,[0],[1.0])|                       0.0|           (1,[0],[1.0])|        36.9|            0|[28.7,996.8,8.8,1...|\n",
            "|2023-10-19|2023| 10| 19|32.7|         4|         4|        4|999.1|        4|          0|         0| 0.0|  0|           0|               0|   0|      0|                   0|  8.8|12.48666666666667|16.84333333333333|36.9|010060|22.6|      0.0|(1,[0],[1.0])|               0.0|   (1,[0],[1.0])|                   0.0|       (1,[0],[1.0])|       0.0|(1,[0],[1.0])|          0.0|(1,[0],[1.0])|                       0.0|           (1,[0],[1.0])|        24.6|            0|[32.7,999.1,8.8,1...|\n",
            "+----------+----+---+---+----+----------+----------+---------+-----+---------+-----------+----------+----+---+------------+----------------+----+-------+--------------------+-----+-----------------+-----------------+----+------+----+---------+-------------+------------------+----------------+----------------------+--------------------+----------+-------------+-------------+-------------+--------------------------+------------------------+------------+-------------+--------------------+\n",
            "only showing top 3 rows\n",
            "\n"
          ]
        },
        {
          "name": "stderr",
          "output_type": "stream",
          "text": [
            "                                                                                \r"
          ]
        }
      ],
      "source": [
        "df_numerical_assembled.show(3)"
      ]
    },
    {
      "cell_type": "code",
      "execution_count": 57,
      "metadata": {},
      "outputs": [
        {
          "name": "stderr",
          "output_type": "stream",
          "text": [
            "                                                                                \r"
          ]
        }
      ],
      "source": [
        "# StandardScaler for numerical features\n",
        "scaler = StandardScaler(inputCol=\"numerical_features\", outputCol=\"scaled_numerical_features\")\n",
        "df_scaled_numerical = scaler.fit(df_numerical_assembled).transform(df_numerical_assembled)\n",
        "\n",
        "# Assemble scaled numerical features with one-hot encoded categorical features\n",
        "final_assembler_inputs = [c + \"_vec\" for c in categorical_columns] + [\"scaled_numerical_features\"]\n",
        "final_assembler = VectorAssembler(inputCols=final_assembler_inputs, outputCol=\"features\")\n",
        "df_final = final_assembler.transform(df_scaled_numerical)"
      ]
    },
    {
      "cell_type": "code",
      "execution_count": 58,
      "metadata": {},
      "outputs": [
        {
          "name": "stderr",
          "output_type": "stream",
          "text": [
            "[Stage 2413:>                                                       (0 + 1) / 1]\r"
          ]
        },
        {
          "name": "stdout",
          "output_type": "stream",
          "text": [
            "+----------+----+---+---+----+----------+----------+---------+-----+---------+-----------+----------+----+---+------------+----------------+----+-------+--------------------+-----+-----------------+-----------------+----+------+----+---------+-------------+------------------+----------------+----------------------+--------------------+----------+-------------+-------------+-------------+--------------------------+------------------------+------------+-------------+--------------------+-------------------------+--------------------+\n",
            "|      date|year| mo| da|temp|count_temp|count_dewp|count_slp|  stp|count_stp|count_visib|count_wdsp|prcp|fog|rain_drizzle|snow_ice_pellets|hail|thunder|tornado_funnel_cloud|visib|             wdsp|            mxpsd| max|   stn| min|fog_index|      fog_vec|rain_drizzle_index|rain_drizzle_vec|snow_ice_pellets_index|snow_ice_pellets_vec|hail_index|     hail_vec|thunder_index|  thunder_vec|tornado_funnel_cloud_index|tornado_funnel_cloud_vec|next_day_max|next_day_rain|  numerical_features|scaled_numerical_features|            features|\n",
            "+----------+----+---+---+----+----------+----------+---------+-----+---------+-----------+----------+----+---+------------+----------------+----+-------+--------------------+-----+-----------------+-----------------+----+------+----+---------+-------------+------------------+----------------+----------------------+--------------------+----------+-------------+-------------+-------------+--------------------------+------------------------+------------+-------------+--------------------+-------------------------+--------------------+\n",
            "|2023-01-13|2023|  1| 13|28.6|         7|         7|        7|988.2|        7|          0|         7| 0.0|  0|           0|               0|   0|      0|                   0|  8.8|             23.4|             31.9|28.8|010060|28.4|      0.0|(1,[0],[1.0])|               0.0|   (1,[0],[1.0])|                   0.0|       (1,[0],[1.0])|       0.0|(1,[0],[1.0])|          0.0|(1,[0],[1.0])|                       0.0|           (1,[0],[1.0])|        32.5|            0|[28.6,988.2,8.8,2...|     [1.26308956810070...|[1.0,1.0,1.0,1.0,...|\n",
            "|2023-02-14|2023|  2| 14|28.7|         8|         8|        8|996.8|        8|          0|         8| 0.0|  0|           0|               0|   0|      0|                   0|  8.8|             12.5|             16.9|32.5|010060|24.6|      0.0|(1,[0],[1.0])|               0.0|   (1,[0],[1.0])|                   0.0|       (1,[0],[1.0])|       0.0|(1,[0],[1.0])|          0.0|(1,[0],[1.0])|                       0.0|           (1,[0],[1.0])|        36.9|            0|[28.7,996.8,8.8,1...|     [1.26750596519196...|[1.0,1.0,1.0,1.0,...|\n",
            "|2023-10-19|2023| 10| 19|32.7|         4|         4|        4|999.1|        4|          0|         0| 0.0|  0|           0|               0|   0|      0|                   0|  8.8|12.48666666666667|16.84333333333333|36.9|010060|22.6|      0.0|(1,[0],[1.0])|               0.0|   (1,[0],[1.0])|                   0.0|       (1,[0],[1.0])|       0.0|(1,[0],[1.0])|          0.0|(1,[0],[1.0])|                       0.0|           (1,[0],[1.0])|        24.6|            0|[32.7,999.1,8.8,1...|     [1.44416184884241...|[1.0,1.0,1.0,1.0,...|\n",
            "+----------+----+---+---+----+----------+----------+---------+-----+---------+-----------+----------+----+---+------------+----------------+----+-------+--------------------+-----+-----------------+-----------------+----+------+----+---------+-------------+------------------+----------------+----------------------+--------------------+----------+-------------+-------------+-------------+--------------------------+------------------------+------------+-------------+--------------------+-------------------------+--------------------+\n",
            "only showing top 3 rows\n",
            "\n"
          ]
        },
        {
          "name": "stderr",
          "output_type": "stream",
          "text": [
            "                                                                                \r"
          ]
        }
      ],
      "source": [
        "df_final.show(3)"
      ]
    },
    {
      "cell_type": "markdown",
      "metadata": {},
      "source": [
        "# Train-Test Split"
      ]
    },
    {
      "cell_type": "code",
      "execution_count": 59,
      "metadata": {},
      "outputs": [],
      "source": [
        "# Split the data into training and test sets\n",
        "(train_data, test_data) = df_final.randomSplit([0.8, 0.2])"
      ]
    },
    {
      "cell_type": "code",
      "execution_count": 60,
      "metadata": {},
      "outputs": [
        {
          "name": "stderr",
          "output_type": "stream",
          "text": [
            "                                                                                \r"
          ]
        },
        {
          "data": {
            "text/plain": [
              "[Row(features=DenseVector([1.0, 1.0, 1.0, 1.0, 1.0, 1.0, -2.7558, 2.1218, 5.6867, 0.0, 0.3032, -2.3955, -2.9651, 0.0, 1.0718, 0.9682, 0.809, 0.7956, 0.7894, 0.9898])),\n",
              " Row(features=DenseVector([1.0, 1.0, 1.0, 1.0, 1.0, 1.0, -2.6675, 2.2703, 5.6867, 0.0, 0.5584, -2.3281, -2.7831, 0.0, 1.0718, 0.9682, 0.809, 0.7956, 0.7894, 0.9898])),\n",
              " Row(features=DenseVector([1.0, 1.0, 1.0, 1.0, 1.0, 1.0, -2.6145, 2.1298, 3.5474, 0.0, 1.5796, -2.2439, -2.8319, 0.0, 1.0718, 0.9682, 0.809, 0.7956, 0.7894, 0.9898]))]"
            ]
          },
          "execution_count": 60,
          "metadata": {},
          "output_type": "execute_result"
        }
      ],
      "source": [
        "train_data.select('features').take(3)"
      ]
    },
    {
      "cell_type": "markdown",
      "metadata": {},
      "source": [
        "# ML - Regression - Predict next day max temperature "
      ]
    },
    {
      "cell_type": "code",
      "execution_count": 61,
      "metadata": {},
      "outputs": [],
      "source": [
        "regression_evaluator = RegressionEvaluator(predictionCol=\"prediction\", labelCol=\"next_day_max\", metricName=\"rmse\")"
      ]
    },
    {
      "cell_type": "markdown",
      "metadata": {},
      "source": [
        "## Linear Regression (baseline)"
      ]
    },
    {
      "cell_type": "code",
      "execution_count": 62,
      "metadata": {},
      "outputs": [
        {
          "name": "stderr",
          "output_type": "stream",
          "text": [
            "24/03/09 16:47:25 WARN Instrumentation: [cdca1e25] regParam is zero, which might cause numerical instability and overfitting.\n",
            "[Stage 2588:==========================================>             (3 + 1) / 4]\r"
          ]
        },
        {
          "name": "stdout",
          "output_type": "stream",
          "text": [
            "Linear Regression RMSE: 6.216172209052589\n"
          ]
        },
        {
          "name": "stderr",
          "output_type": "stream",
          "text": [
            "                                                                                \r"
          ]
        }
      ],
      "source": [
        "# Regression model: predict next day's maximum temperature\n",
        "regressor = LinearRegression(featuresCol=\"features\", labelCol=\"next_day_max\")\n",
        "regression_model = regressor.fit(train_data)\n",
        "\n",
        "# Linear Regression - Predict and Evaluate\n",
        "lr_predictions = regression_model.transform(test_data)\n",
        "lr_rmse = regression_evaluator.evaluate(lr_predictions)\n",
        "print(f\"Linear Regression RMSE: {lr_rmse}\")"
      ]
    },
    {
      "cell_type": "code",
      "execution_count": 63,
      "metadata": {},
      "outputs": [
        {
          "name": "stderr",
          "output_type": "stream",
          "text": [
            "[Stage 2625:>                                                       (0 + 1) / 1]\r"
          ]
        },
        {
          "name": "stdout",
          "output_type": "stream",
          "text": [
            "+----------+----+---+---+-----+----------+----------+---------+-----+---------+-----------+----------+----+---+------------+----------------+----+-------+--------------------+-----+----+------------------+-----+------+-----+---------+-------------+------------------+----------------+----------------------+--------------------+----------+-------------+-------------+-------------+--------------------------+------------------------+------------+-------------+--------------------+-------------------------+--------------------+-------------------+\n",
            "|      date|year| mo| da| temp|count_temp|count_dewp|count_slp|  stp|count_stp|count_visib|count_wdsp|prcp|fog|rain_drizzle|snow_ice_pellets|hail|thunder|tornado_funnel_cloud|visib|wdsp|             mxpsd|  max|   stn|  min|fog_index|      fog_vec|rain_drizzle_index|rain_drizzle_vec|snow_ice_pellets_index|snow_ice_pellets_vec|hail_index|     hail_vec|thunder_index|  thunder_vec|tornado_funnel_cloud_index|tornado_funnel_cloud_vec|next_day_max|next_day_rain|  numerical_features|scaled_numerical_features|            features|         prediction|\n",
            "+----------+----+---+---+-----+----------+----------+---------+-----+---------+-----------+----------+----+---+------------+----------------+----+-------+--------------------+-----+----+------------------+-----+------+-----+---------+-------------+------------------+----------------+----------------------+--------------------+----------+-------------+-------------+-------------+--------------------------+------------------------+------------+-------------+--------------------+-------------------------+--------------------+-------------------+\n",
            "|2023-01-01|2023|  1|  1|-37.9|         8|         8|        8| 14.7|        8|          0|         8| 0.0|  0|           0|               0|   0|      0|                   0|  8.8| 0.2|               1.9|-24.9|302300|-43.8|      0.0|(1,[0],[1.0])|               0.0|   (1,[0],[1.0])|                   0.0|       (1,[0],[1.0])|       0.0|(1,[0],[1.0])|          0.0|(1,[0],[1.0])|                       0.0|           (1,[0],[1.0])|       -29.6|            0|[-37.9,14.7,8.8,0...|     [-1.6738144975879...|[1.0,1.0,1.0,1.0,...| -21.95067616014809|\n",
            "|2023-01-01|2023|  1|  1|-33.9|         4|         4|        4|989.2|        4|          0|         4| 0.0|  0|           0|               0|   0|      0|                   0|  8.8| 0.0|4.4222222222222225|-21.6|301270|-40.5|      0.0|(1,[0],[1.0])|               0.0|   (1,[0],[1.0])|                   0.0|       (1,[0],[1.0])|       0.0|(1,[0],[1.0])|          0.0|(1,[0],[1.0])|                       0.0|           (1,[0],[1.0])|       -27.4|            0|[-33.9,989.2,8.8,...|     [-1.4971586139375...|[1.0,1.0,1.0,1.0,...|-18.799626586093506|\n",
            "+----------+----+---+---+-----+----------+----------+---------+-----+---------+-----------+----------+----+---+------------+----------------+----+-------+--------------------+-----+----+------------------+-----+------+-----+---------+-------------+------------------+----------------+----------------------+--------------------+----------+-------------+-------------+-------------+--------------------------+------------------------+------------+-------------+--------------------+-------------------------+--------------------+-------------------+\n",
            "only showing top 2 rows\n",
            "\n"
          ]
        },
        {
          "name": "stderr",
          "output_type": "stream",
          "text": [
            "                                                                                \r"
          ]
        }
      ],
      "source": [
        "lr_predictions.show(2)"
      ]
    },
    {
      "cell_type": "code",
      "execution_count": 64,
      "metadata": {},
      "outputs": [
        {
          "name": "stderr",
          "output_type": "stream",
          "text": [
            "/Users/mj/conda_env/tf/lib/python3.9/site-packages/pyspark/sql/context.py:158: FutureWarning: Deprecated in 3.0.0. Use SparkSession.builder.getOrCreate() instead.\n",
            "  warnings.warn(\n",
            "[Stage 2672:==========================================>             (3 + 1) / 4]\r"
          ]
        },
        {
          "name": "stdout",
          "output_type": "stream",
          "text": [
            "RMSE: 6.216172209052589\n",
            "MSE: 38.640796932597745\n",
            "MAE: 4.14860577242864\n",
            "R2: 0.9316636268760649\n"
          ]
        },
        {
          "name": "stderr",
          "output_type": "stream",
          "text": [
            "                                                                                \r"
          ]
        }
      ],
      "source": [
        "predictions_and_labels_rdd = lr_predictions.select(col(\"prediction\"), col(\"next_day_max\")).rdd.map(lambda row: (row[0], row[1]))\n",
        "\n",
        "# Instantiate RegressionMetrics based on the RDD\n",
        "regression_metrics = RegressionMetrics(predictions_and_labels_rdd)\n",
        "\n",
        "# Now you can use various metrics provided by RegressionMetrics\n",
        "print(f\"RMSE: {regression_metrics.rootMeanSquaredError}\")\n",
        "print(f\"MSE: {regression_metrics.meanSquaredError}\")\n",
        "print(f\"MAE: {regression_metrics.meanAbsoluteError}\")\n",
        "print(f\"R2: {regression_metrics.r2}\")\n"
      ]
    },
    {
      "cell_type": "markdown",
      "metadata": {},
      "source": [
        "## XGBoostRegressor"
      ]
    },
    {
      "cell_type": "code",
      "execution_count": 65,
      "metadata": {},
      "outputs": [
        {
          "name": "stderr",
          "output_type": "stream",
          "text": [
            "2024-03-09 16:58:44,345 INFO XGBoost-PySpark: _fit Running xgboost-2.0.3 on 1 workers with\n",
            "\tbooster params: {'objective': 'reg:squarederror', 'device': 'cpu', 'nthread': 1}\n",
            "\ttrain_call_kwargs_params: {'verbose_eval': True, 'num_boost_round': 100}\n",
            "\tdmatrix_kwargs: {'nthread': 1, 'missing': nan}\n",
            "[17:01:24] task 0 got new rank 0                                    (0 + 1) / 1]\n",
            "2024-03-09 17:03:39,998 INFO XGBoost-PySpark: _fit Finished xgboost training!   \n",
            "2024-03-09 17:05:20,383 INFO XGBoost-PySpark: predict_udf Do the inference on the CPUs\n",
            "2024-03-09 17:05:34,237 INFO XGBoost-PySpark: predict_udf Do the inference on the CPUs\n",
            "2024-03-09 17:05:48,245 INFO XGBoost-PySpark: predict_udf Do the inference on the CPUs\n",
            "2024-03-09 17:06:02,119 INFO XGBoost-PySpark: predict_udf Do the inference on the CPUs\n"
          ]
        },
        {
          "name": "stdout",
          "output_type": "stream",
          "text": [
            "XGBoost Regression RMSE: 5.869728472226135\n"
          ]
        },
        {
          "name": "stderr",
          "output_type": "stream",
          "text": [
            "                                                                                \r"
          ]
        }
      ],
      "source": [
        "# XGBoost Regression - Train and Evaluate\n",
        "xgboost_regressor = SparkXGBRegressor(features_col=\"features\", label_col=\"next_day_max\")\n",
        "xgb_regression_model = xgboost_regressor.fit(train_data)\n",
        "xgbr_predictions = xgb_regression_model.transform(test_data)\n",
        "# xgb_lr_rmse = regression_evaluator.evaluate(xgbr_predictions)\n",
        "# print(f\"XGBoost Regression RMSE: {xgb_lr_rmse}\")"
      ]
    },
    {
      "cell_type": "code",
      "execution_count": 67,
      "metadata": {},
      "outputs": [
        {
          "name": "stderr",
          "output_type": "stream",
          "text": [
            "2024-03-09 17:08:08,366 INFO XGBoost-PySpark: predict_udf Do the inference on the CPUs\n",
            "2024-03-09 17:08:23,831 INFO XGBoost-PySpark: predict_udf Do the inference on the CPUs\n",
            "2024-03-09 17:08:38,357 INFO XGBoost-PySpark: predict_udf Do the inference on the CPUs\n",
            "2024-03-09 17:08:52,804 INFO XGBoost-PySpark: predict_udf Do the inference on the CPUs\n",
            "2024-03-09 17:09:05,884 INFO XGBoost-PySpark: predict_udf Do the inference on the CPUs\n"
          ]
        },
        {
          "name": "stdout",
          "output_type": "stream",
          "text": [
            "RMSE: 5.869728472226135\n",
            "MSE: 34.453712337662154\n",
            "MAE: 3.9817283471895277\n",
            "R2: 0.9390684993915077\n"
          ]
        },
        {
          "name": "stderr",
          "output_type": "stream",
          "text": [
            "                                                                                \r"
          ]
        }
      ],
      "source": [
        "predictions_and_labels_rdd = xgbr_predictions.select(col(\"prediction\"), col(\"next_day_max\")).rdd.map(lambda row: (row[0], row[1]))\n",
        "\n",
        "# Instantiate RegressionMetrics based on the RDD\n",
        "regression_metrics = RegressionMetrics(predictions_and_labels_rdd)\n",
        "\n",
        "# Now you can use various metrics provided by RegressionMetrics\n",
        "print(f\"RMSE: {regression_metrics.rootMeanSquaredError}\")\n",
        "print(f\"MSE: {regression_metrics.meanSquaredError}\")\n",
        "print(f\"MAE: {regression_metrics.meanAbsoluteError}\")\n",
        "print(f\"R2: {regression_metrics.r2}\")\n"
      ]
    },
    {
      "cell_type": "markdown",
      "metadata": {},
      "source": [
        "# ML - Classification - Predict next day rain (binary)"
      ]
    },
    {
      "cell_type": "code",
      "execution_count": 68,
      "metadata": {},
      "outputs": [],
      "source": [
        "# For Classification Evaluation (Random Forest and XGBoost)\n",
        "classification_evaluator = MulticlassClassificationEvaluator(labelCol=\"next_day_rain\", predictionCol=\"prediction\", metricName=\"accuracy\")"
      ]
    },
    {
      "cell_type": "markdown",
      "metadata": {},
      "source": [
        "## Random Forest Classifier (baseline)"
      ]
    },
    {
      "cell_type": "code",
      "execution_count": null,
      "metadata": {},
      "outputs": [],
      "source": [
        "# # Classification model: predict if there will be rain/drizzle the next day\n",
        "# classifier = RandomForestClassifier(featuresCol=\"features\", labelCol=\"next_day_rain\")\n",
        "# classification_model = classifier.fit(train_data)\n",
        "# # Random Forest Classifier - Predict and Evaluate\n",
        "# rf_predictions = classification_model.transform(test_data)\n",
        "# rf_accuracy = classification_evaluator.evaluate(rf_predictions)\n",
        "# print(f\"Random Forest Classifier Accuracy: {rf_accuracy}\")"
      ]
    },
    {
      "cell_type": "code",
      "execution_count": null,
      "metadata": {},
      "outputs": [],
      "source": [
        "# # Random Forest feature importances\n",
        "# rf_feature_importances = classification_model.featureImportances.toArray()\n",
        "# print(\"Random Forest Feature Importances:\")\n",
        "# for i, importance in enumerate(rf_feature_importances):\n",
        "#     print(f\"Feature {i + 1}: {importance}\")"
      ]
    },
    {
      "cell_type": "markdown",
      "metadata": {},
      "source": [
        "## XGBoostClassifier"
      ]
    },
    {
      "cell_type": "code",
      "execution_count": 69,
      "metadata": {},
      "outputs": [
        {
          "name": "stderr",
          "output_type": "stream",
          "text": [
            "2024-03-09 17:15:27,892 INFO XGBoost-PySpark: _fit Running xgboost-2.0.3 on 1 workers with\n",
            "\tbooster params: {'objective': 'binary:logistic', 'device': 'cpu', 'nthread': 1}\n",
            "\ttrain_call_kwargs_params: {'verbose_eval': True, 'num_boost_round': 100}\n",
            "\tdmatrix_kwargs: {'nthread': 1, 'missing': nan}\n",
            "[17:18:05] task 0 got new rank 0                                    (0 + 1) / 1]\n",
            "2024-03-09 17:18:29,821 INFO XGBoost-PySpark: _fit Finished xgboost training!   \n"
          ]
        }
      ],
      "source": [
        "# XGBoost Classification - Train and Evaluate\n",
        "xgboost_classifier = SparkXGBClassifier(features_col=\"features\", label_col=\"next_day_rain\")\n",
        "xgb_classification_model = xgboost_classifier.fit(train_data)\n",
        "xgbc_predictions = xgb_classification_model.transform(test_data)"
      ]
    },
    {
      "cell_type": "code",
      "execution_count": 74,
      "metadata": {},
      "outputs": [
        {
          "name": "stderr",
          "output_type": "stream",
          "text": [
            "2024-03-09 17:36:26,359 INFO XGBoost-PySpark: predict_udf Do the inference on the CPUs\n",
            "2024-03-09 17:36:49,614 INFO XGBoost-PySpark: predict_udf Do the inference on the CPUs\n",
            "2024-03-09 17:37:01,902 INFO XGBoost-PySpark: predict_udf Do the inference on the CPUs\n",
            "2024-03-09 17:37:13,908 INFO XGBoost-PySpark: predict_udf Do the inference on the CPUs\n",
            "/Users/mj/conda_env/tf/lib/python3.9/site-packages/pyspark/sql/context.py:158: FutureWarning: Deprecated in 3.0.0. Use SparkSession.builder.getOrCreate() instead.\n",
            "  warnings.warn(\n",
            "2024-03-09 17:38:47,556 INFO XGBoost-PySpark: predict_udf Do the inference on the CPUs\n",
            "                                                                                \r"
          ]
        },
        {
          "name": "stdout",
          "output_type": "stream",
          "text": [
            "XGBoost Classifier Accuracy: 0.8060371984476414\n"
          ]
        },
        {
          "name": "stderr",
          "output_type": "stream",
          "text": [
            "2024-03-09 17:38:59,960 INFO XGBoost-PySpark: predict_udf Do the inference on the CPUs\n",
            "2024-03-09 17:39:13,968 INFO XGBoost-PySpark: predict_udf Do the inference on the CPUs\n",
            "2024-03-09 17:39:27,040 INFO XGBoost-PySpark: predict_udf Do the inference on the CPUs\n",
            "2024-03-09 17:39:38,473 INFO XGBoost-PySpark: predict_udf Do the inference on the CPUs\n",
            "[Stage 3147:==========================================>             (3 + 1) / 4]\r"
          ]
        },
        {
          "name": "stdout",
          "output_type": "stream",
          "text": [
            "areaUnderPR: 0.536032296649371\n",
            "areaUnderROC: 0.6960398067041277\n"
          ]
        },
        {
          "name": "stderr",
          "output_type": "stream",
          "text": [
            "                                                                                \r"
          ]
        }
      ],
      "source": [
        "xgbc_accuracy = classification_evaluator.evaluate(xgbc_predictions)\n",
        "predictions_and_labels_rdd = xgbc_predictions.select(\n",
        "    col(\"prediction\").cast(\"double\"),  # Cast prediction to DoubleType\n",
        "    col(\"next_day_rain\").cast(\"double\")  # Cast next_day_rain to DoubleType\n",
        ").rdd.map(lambda row: (row[0], row[1]))\n",
        "\n",
        "# Instantiate RegressionMetrics based on the RDD\n",
        "binary_classification_metrics = BinaryClassificationMetrics(predictions_and_labels_rdd)\n",
        "\n",
        "# Now you can use various metrics provided by RegressionMetrics\n",
        "print(f\"XGBoost Classifier Accuracy: {xgbc_accuracy}\")\n",
        "print(f\"areaUnderPR: {binary_classification_metrics.areaUnderPR}\")\n",
        "print(f\"areaUnderROC: {binary_classification_metrics.areaUnderROC}\")"
      ]
    },
    {
      "cell_type": "markdown",
      "metadata": {},
      "source": [
        "## SHAP for Classification"
      ]
    },
    {
      "cell_type": "code",
      "execution_count": 75,
      "metadata": {},
      "outputs": [
        {
          "name": "stderr",
          "output_type": "stream",
          "text": [
            "24/03/09 17:42:07 WARN RowBasedKeyValueBatch: Calling spill() on RowBasedKeyValueBatch. Will not spill but return 0.\n",
            "                                                                                \r"
          ]
        },
        {
          "name": "stdout",
          "output_type": "stream",
          "text": [
            "                                            features\n",
            "0  [1.0, 1.0, 1.0, 1.0, 1.0, 1.0, -1.673814497587...\n",
            "1  [1.0, 1.0, 1.0, 1.0, 1.0, 1.0, -1.497158613937...\n",
            "2  [1.0, 1.0, 0.0, 1.0, 1.0, 1.0, -1.373499495382...\n",
            "3  [1.0, 1.0, 1.0, 1.0, 1.0, 1.0, -1.161512435001...\n",
            "4  [1.0, 1.0, 1.0, 1.0, 1.0, 1.0, -1.020187728081...\n"
          ]
        }
      ],
      "source": [
        "# Save the PySpark XGBoost model\n",
        "model_path = \"./xgb_classification_model\"\n",
        "xgb_classification_model.write().overwrite().save(model_path)\n",
        "\n",
        "# Load the model using Python's XGBoost\n",
        "xgb_model = xgb.Booster()\n",
        "xgb_model.load_model(model_path + '/model/part-00000')\n",
        "\n",
        "# Convert the test data to Pandas DataFrame\n",
        "X_test_pandas = test_data.select(\"features\").toPandas()\n",
        "print(X_test_pandas.head())"
      ]
    },
    {
      "cell_type": "code",
      "execution_count": null,
      "metadata": {},
      "outputs": [],
      "source": [
        "# Assume 'numerical_columns' is a list of your original numerical feature names\n",
        "scaled_feature_names = [\"scaled_\" + col for col in numerical_columns]\n",
        "\n",
        "# Categorical feature names after one-hot encoding\n",
        "categorical_feature_vec_names = [c + \"_vec\" for c in categorical_columns]\n",
        "\n",
        "# Final feature names list including both categorical and numerical features\n",
        "final_feature_names = categorical_feature_vec_names + scaled_feature_names\n",
        "\n",
        "# Now create the Pandas DataFrame with the final feature names\n",
        "feature_array = np.array(X_test_pandas['features'].tolist())\n",
        "feature_df = pd.DataFrame(feature_array, columns=final_feature_names)"
      ]
    },
    {
      "cell_type": "code",
      "execution_count": 78,
      "metadata": {},
      "outputs": [],
      "source": [
        "# Extract feature names from the DataFrame schema\n",
        "feature_names = [col['name'] for col in df_final.schema[\"features\"].metadata[\"ml_attr\"][\"attrs\"][\"binary\"]] + \\\n",
        "                [col['name'] for col in df_final.schema[\"features\"].metadata[\"ml_attr\"][\"attrs\"][\"numeric\"]]\n",
        "\n",
        "# Convert the feature vector column in Spark DataFrame to a Pandas DataFrame with proper feature names\n",
        "feature_array = np.array(X_test_pandas['features'].tolist())\n",
        "feature_df = pd.DataFrame(feature_array, columns=feature_names)\n",
        "\n",
        "# Proceed with the DMatrix creation and SHAP values computation\n",
        "X_test_matrix = xgb.DMatrix(feature_df)"
      ]
    },
    {
      "cell_type": "code",
      "execution_count": 79,
      "metadata": {},
      "outputs": [],
      "source": [
        "# Compute SHAP values\n",
        "explainer = shap.TreeExplainer(xgb_model)\n",
        "shap_values = explainer.shap_values(X_test_matrix)"
      ]
    },
    {
      "cell_type": "code",
      "execution_count": 84,
      "metadata": {},
      "outputs": [
        {
          "data": {
            "image/png": "[encoded data removed]",
            "text/plain": [
              "<Figure size 576x684 with 2 Axes>"
            ]
          },
          "metadata": {},
          "output_type": "display_data"
        }
      ],
      "source": [
        "# Summarize the effects of all the features\n",
        "shap.summary_plot(shap_values, feature_df)"
      ]
    },
    {
      "cell_type": "code",
      "execution_count": null,
      "metadata": {},
      "outputs": [],
      "source": []
    }
  ],
  "metadata": {
    "colab": {
      "provenance": []
    },
    "kernelspec": {
      "display_name": "Python 3",
      "name": "python3"
    },
    "language_info": {
      "codemirror_mode": {
        "name": "ipython",
        "version": 3
      },
      "file_extension": ".py",
      "mimetype": "text/x-python",
      "name": "python",
      "nbconvert_exporter": "python",
      "pygments_lexer": "ipython3",
      "version": "3.9.9"
    }
  },
  "nbformat": 4,
  "nbformat_minor": 0
}
